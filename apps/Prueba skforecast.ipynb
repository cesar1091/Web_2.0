{
 "cells": [
  {
   "cell_type": "code",
   "execution_count": 62,
   "metadata": {},
   "outputs": [],
   "source": [
    "# Tratamiento de datos\n",
    "# ==============================================================================\n",
    "import numpy as np\n",
    "import pandas as pd\n",
    "\n",
    "# Gráficos\n",
    "# ==============================================================================\n",
    "import matplotlib.pyplot as plt\n",
    "\n",
    "# Configuración warnings\n",
    "# ==============================================================================\n",
    "import warnings\n",
    "warnings.filterwarnings('ignore')\n",
    "\n",
    "# ==============================================================================\n",
    "#!pip install git+https://github.com/JoaquinAmatRodrigo/skforecast@v0.1.8\n",
    "\n",
    "from sklearn.linear_model import LinearRegression\n",
    "from sklearn.linear_model import Lasso\n",
    "from sklearn.ensemble import RandomForestRegressor\n",
    "from sklearn.metrics import mean_squared_error\n",
    "\n",
    "from skforecast.ForecasterAutoreg import ForecasterAutoreg\n",
    "from skforecast.ForecasterCustom import ForecasterCustom\n",
    "from skforecast.model_selection import grid_search_forecaster\n",
    "from skforecast.model_selection import time_series_spliter\n",
    "from skforecast.model_selection import cv_forecaster\n",
    "from skforecast.model_selection import backtesting_forecaster_intervals"
   ]
  },
  {
   "cell_type": "code",
   "execution_count": 63,
   "metadata": {},
   "outputs": [],
   "source": [
    "import pyodbc"
   ]
  },
  {
   "cell_type": "code",
   "execution_count": 91,
   "metadata": {},
   "outputs": [],
   "source": [
    "sql_conn = pyodbc.connect('DRIVER={SQL Server};SERVER=51.222.82.146;DATABASE=STRATEGIO_OLAP_PROTISA;UID=Cesar_VS;PWD=Atenasmf626;Trusted_Connection=no')\n",
    "query = \"SELECT [CodigoFecha],SUM([VentaSinIgv]) AS Ventas FROM [STRATEGIO_OLAP_PROTISA].[pbix].[Ventas] WHERE [CodigoFecha]>='2019-01-01' and [CodigoFecha]<= getdate()  and [CodigoDistribuidor] not in ('20100239559.0','20100239559.1','20100239559.2','20100239559.3','20100239559.7','20100239559.9') GROUP BY [CodigoFecha]\" \n",
    "df = pd.read_sql(query,sql_conn)"
   ]
  },
  {
   "cell_type": "code",
   "execution_count": 92,
   "metadata": {
    "scrolled": true
   },
   "outputs": [
    {
     "data": {
      "text/html": [
       "<div>\n",
       "<style scoped>\n",
       "    .dataframe tbody tr th:only-of-type {\n",
       "        vertical-align: middle;\n",
       "    }\n",
       "\n",
       "    .dataframe tbody tr th {\n",
       "        vertical-align: top;\n",
       "    }\n",
       "\n",
       "    .dataframe thead th {\n",
       "        text-align: right;\n",
       "    }\n",
       "</style>\n",
       "<table border=\"1\" class=\"dataframe\">\n",
       "  <thead>\n",
       "    <tr style=\"text-align: right;\">\n",
       "      <th></th>\n",
       "      <th>CodigoFecha</th>\n",
       "      <th>Ventas</th>\n",
       "    </tr>\n",
       "  </thead>\n",
       "  <tbody>\n",
       "    <tr>\n",
       "      <th>0</th>\n",
       "      <td>2020-07-29</td>\n",
       "      <td>2.396615e+06</td>\n",
       "    </tr>\n",
       "    <tr>\n",
       "      <th>1</th>\n",
       "      <td>2019-09-01</td>\n",
       "      <td>3.165561e+04</td>\n",
       "    </tr>\n",
       "    <tr>\n",
       "      <th>2</th>\n",
       "      <td>2021-02-23</td>\n",
       "      <td>2.511046e+06</td>\n",
       "    </tr>\n",
       "    <tr>\n",
       "      <th>3</th>\n",
       "      <td>2020-03-28</td>\n",
       "      <td>2.085531e+06</td>\n",
       "    </tr>\n",
       "  </tbody>\n",
       "</table>\n",
       "</div>"
      ],
      "text/plain": [
       "  CodigoFecha        Ventas\n",
       "0  2020-07-29  2.396615e+06\n",
       "1  2019-09-01  3.165561e+04\n",
       "2  2021-02-23  2.511046e+06\n",
       "3  2020-03-28  2.085531e+06"
      ]
     },
     "execution_count": 92,
     "metadata": {},
     "output_type": "execute_result"
    }
   ],
   "source": [
    "df.head(4)"
   ]
  },
  {
   "cell_type": "code",
   "execution_count": 93,
   "metadata": {},
   "outputs": [],
   "source": [
    "df['CodigoFecha'] = pd.to_datetime(df['CodigoFecha'], format='%Y/%m/%d')\n",
    "df = df.set_index('CodigoFecha')\n",
    "df = df.rename(columns={'Ventas': 'y'})\n",
    "df = df.resample('D').sum()\n",
    "df = df['y']\n",
    "df = df.sort_index()"
   ]
  },
  {
   "cell_type": "code",
   "execution_count": 94,
   "metadata": {},
   "outputs": [
    {
     "ename": "TypeError",
     "evalue": "rename() got an unexpected keyword argument 'columns'",
     "output_type": "error",
     "traceback": [
      "\u001b[1;31m---------------------------------------------------------------------------\u001b[0m",
      "\u001b[1;31mTypeError\u001b[0m                                 Traceback (most recent call last)",
      "\u001b[1;32m<ipython-input-94-caeaea3f5a7e>\u001b[0m in \u001b[0;36m<module>\u001b[1;34m\u001b[0m\n\u001b[1;32m----> 1\u001b[1;33m \u001b[0mdf\u001b[0m \u001b[1;33m=\u001b[0m \u001b[0mdf\u001b[0m\u001b[1;33m.\u001b[0m\u001b[0mrename\u001b[0m\u001b[1;33m(\u001b[0m\u001b[0mcolumns\u001b[0m\u001b[1;33m=\u001b[0m\u001b[1;33m{\u001b[0m\u001b[1;34m'Ventas'\u001b[0m\u001b[1;33m:\u001b[0m \u001b[1;34m'y'\u001b[0m\u001b[1;33m}\u001b[0m\u001b[1;33m)\u001b[0m\u001b[1;33m\u001b[0m\u001b[1;33m\u001b[0m\u001b[0m\n\u001b[0m\u001b[0;32m      2\u001b[0m \u001b[0mdf\u001b[0m \u001b[1;33m=\u001b[0m \u001b[0mdf\u001b[0m\u001b[1;33m.\u001b[0m\u001b[0mresample\u001b[0m\u001b[1;33m(\u001b[0m\u001b[1;34m'W'\u001b[0m\u001b[1;33m)\u001b[0m\u001b[1;33m.\u001b[0m\u001b[0msum\u001b[0m\u001b[1;33m(\u001b[0m\u001b[1;33m)\u001b[0m\u001b[1;33m\u001b[0m\u001b[1;33m\u001b[0m\u001b[0m\n\u001b[0;32m      3\u001b[0m \u001b[0mdf\u001b[0m \u001b[1;33m=\u001b[0m \u001b[0mdf\u001b[0m\u001b[1;33m[\u001b[0m\u001b[1;34m'y'\u001b[0m\u001b[1;33m]\u001b[0m\u001b[1;33m\u001b[0m\u001b[1;33m\u001b[0m\u001b[0m\n\u001b[0;32m      4\u001b[0m \u001b[0mdf\u001b[0m \u001b[1;33m=\u001b[0m \u001b[0mdf\u001b[0m\u001b[1;33m.\u001b[0m\u001b[0msort_index\u001b[0m\u001b[1;33m(\u001b[0m\u001b[1;33m)\u001b[0m\u001b[1;33m\u001b[0m\u001b[1;33m\u001b[0m\u001b[0m\n",
      "\u001b[1;31mTypeError\u001b[0m: rename() got an unexpected keyword argument 'columns'"
     ]
    }
   ],
   "source": [
    "df = df.rename(columns={'Ventas': 'y'})\n",
    "df = df.resample('W').sum()\n",
    "df = df['y']\n",
    "df = df.sort_index()"
   ]
  },
  {
   "cell_type": "code",
   "execution_count": 69,
   "metadata": {},
   "outputs": [],
   "source": [
    "df.fillna(df.mean(),inplace=True)"
   ]
  },
  {
   "cell_type": "code",
   "execution_count": 70,
   "metadata": {},
   "outputs": [
    {
     "data": {
      "text/plain": [
       "True"
      ]
     },
     "execution_count": 70,
     "metadata": {},
     "output_type": "execute_result"
    }
   ],
   "source": [
    "# Verificar que un índice temporal está completo\n",
    "# ==============================================================================\n",
    "(df.index == pd.date_range(start=df.index.min(),\n",
    "                              end=df.index.max(),\n",
    "                              freq=df.index.freq)).all()"
   ]
  },
  {
   "cell_type": "code",
   "execution_count": 71,
   "metadata": {},
   "outputs": [
    {
     "data": {
      "image/png": "[encoded data removed]",
      "text/plain": [
       "<Figure size 648x288 with 1 Axes>"
      ]
     },
     "metadata": {
      "needs_background": "light"
     },
     "output_type": "display_data"
    }
   ],
   "source": [
    "# Separación datos train-test\n",
    "# ==============================================================================\n",
    "steps = 36\n",
    "datos_train = df[:-steps]\n",
    "datos_test  = df[-steps:]\n",
    "\n",
    "fig, ax=plt.subplots(figsize=(9, 4))\n",
    "datos_train.plot(ax=ax, label='train')\n",
    "datos_test.plot(ax=ax, label='test')\n",
    "ax.legend();"
   ]
  },
  {
   "cell_type": "code",
   "execution_count": 72,
   "metadata": {},
   "outputs": [
    {
     "data": {
      "text/plain": [
       "=======================ForecasterAutoreg=======================\n",
       "Regressor: RandomForestRegressor(random_state=123)\n",
       "Lags: [1 2 3 4 5 6]\n",
       "Exogenous variable: False\n",
       "Parameters: {'bootstrap': True, 'ccp_alpha': 0.0, 'criterion': 'mse', 'max_depth': None, 'max_features': 'auto', 'max_leaf_nodes': None, 'max_samples': None, 'min_impurity_decrease': 0.0, 'min_impurity_split': None, 'min_samples_leaf': 1, 'min_samples_split': 2, 'min_weight_fraction_leaf': 0.0, 'n_estimators': 100, 'n_jobs': None, 'oob_score': False, 'random_state': 123, 'verbose': 0, 'warm_start': False}"
      ]
     },
     "execution_count": 72,
     "metadata": {},
     "output_type": "execute_result"
    }
   ],
   "source": [
    "# Crear y entrenar forecaster\n",
    "# ==============================================================================\n",
    "forecaster_rf = ForecasterAutoreg(\n",
    "                    regressor=RandomForestRegressor(random_state=123),\n",
    "                    lags=6\n",
    "                )\n",
    "\n",
    "forecaster_rf.fit(y=datos_train)\n",
    "\n",
    "forecaster_rf"
   ]
  },
  {
   "cell_type": "code",
   "execution_count": 73,
   "metadata": {},
   "outputs": [
    {
     "data": {
      "text/plain": [
       "CodigoFecha\n",
       "2020-08-23    1.436613e+07\n",
       "2020-08-30    1.411144e+07\n",
       "2020-09-06    1.469330e+07\n",
       "2020-09-13    1.400129e+07\n",
       "2020-09-20    1.410651e+07\n",
       "Freq: W-SUN, dtype: float64"
      ]
     },
     "execution_count": 73,
     "metadata": {},
     "output_type": "execute_result"
    }
   ],
   "source": [
    "# Predicciones\n",
    "# ==============================================================================\n",
    "steps = 36\n",
    "predicciones = forecaster_rf.predict(steps=steps)\n",
    "# Se añade el índice temporal a las predicciones\n",
    "predicciones = pd.Series(data=predicciones, index=datos_test.index)\n",
    "predicciones.head()"
   ]
  },
  {
   "cell_type": "code",
   "execution_count": 74,
   "metadata": {},
   "outputs": [
    {
     "data": {
      "text/plain": [
       "=======================ForecasterAutoreg=======================\n",
       "Regressor: RandomForestRegressor(random_state=123)\n",
       "Lags: [1 2 3 4 5 6]\n",
       "Exogenous variable: False\n",
       "Parameters: {'bootstrap': True, 'ccp_alpha': 0.0, 'criterion': 'mse', 'max_depth': None, 'max_features': 'auto', 'max_leaf_nodes': None, 'max_samples': None, 'min_impurity_decrease': 0.0, 'min_impurity_split': None, 'min_samples_leaf': 1, 'min_samples_split': 2, 'min_weight_fraction_leaf': 0.0, 'n_estimators': 100, 'n_jobs': None, 'oob_score': False, 'random_state': 123, 'verbose': 0, 'warm_start': False}"
      ]
     },
     "execution_count": 74,
     "metadata": {},
     "output_type": "execute_result"
    }
   ],
   "source": [
    "# Crear y entrenar forecaster\n",
    "# ==============================================================================\n",
    "forecaster_rf = ForecasterAutoreg(\n",
    "                    regressor=RandomForestRegressor(random_state=123),\n",
    "                    lags=6\n",
    "                )\n",
    "\n",
    "forecaster_rf.fit(y=datos_train)\n",
    "\n",
    "forecaster_rf"
   ]
  },
  {
   "cell_type": "code",
   "execution_count": 75,
   "metadata": {},
   "outputs": [
    {
     "data": {
      "text/plain": [
       "CodigoFecha\n",
       "2020-08-23    1.436613e+07\n",
       "2020-08-30    1.411144e+07\n",
       "2020-09-06    1.469330e+07\n",
       "2020-09-13    1.400129e+07\n",
       "2020-09-20    1.410651e+07\n",
       "2020-09-27    1.414016e+07\n",
       "2020-10-04    1.430635e+07\n",
       "2020-10-11    1.393178e+07\n",
       "2020-10-18    1.417213e+07\n",
       "2020-10-25    1.407056e+07\n",
       "Freq: W-SUN, dtype: float64"
      ]
     },
     "execution_count": 75,
     "metadata": {},
     "output_type": "execute_result"
    }
   ],
   "source": [
    "# Predicciones\n",
    "# ==============================================================================\n",
    "steps = 36\n",
    "predicciones = forecaster_rf.predict(steps=steps)\n",
    "# Se añade el índice temporal a las predicciones\n",
    "predicciones = pd.Series(data=predicciones, index=datos_test.index)\n",
    "predicciones.head(10)"
   ]
  },
  {
   "cell_type": "code",
   "execution_count": 76,
   "metadata": {},
   "outputs": [
    {
     "data": {
      "image/png": "[encoded data removed]",
      "text/plain": [
       "<Figure size 648x288 with 1 Axes>"
      ]
     },
     "metadata": {
      "needs_background": "light"
     },
     "output_type": "display_data"
    }
   ],
   "source": [
    "# Gráfico\n",
    "# ==============================================================================\n",
    "fig, ax = plt.subplots(figsize=(9, 4))\n",
    "datos_train.plot(ax=ax, label='train')\n",
    "datos_test.plot(ax=ax, label='test')\n",
    "predicciones.plot(ax=ax, label='predicciones')\n",
    "ax.legend();"
   ]
  },
  {
   "cell_type": "code",
   "execution_count": 77,
   "metadata": {},
   "outputs": [
    {
     "name": "stdout",
     "output_type": "stream",
     "text": [
      "Error de test (mse): 8167812812592.889\n"
     ]
    }
   ],
   "source": [
    "# Error\n",
    "# ==============================================================================\n",
    "error_mse = mean_squared_error(\n",
    "                y_true = datos_test,\n",
    "                y_pred = predicciones\n",
    "            )\n",
    "print(f\"Error de test (mse): {error_mse}\")"
   ]
  },
  {
   "cell_type": "code",
   "execution_count": 78,
   "metadata": {},
   "outputs": [
    {
     "name": "stderr",
     "output_type": "stream",
     "text": [
      "loop lags_grid:   0%|                                                                            | 0/3 [00:00<?, ?it/s]\n",
      "loop param_grid:   0%|                                                                           | 0/9 [00:00<?, ?it/s]\u001b[A\n",
      "loop param_grid:  11%|███████▍                                                           | 1/9 [00:00<00:04,  1.64it/s]\u001b[A\n",
      "loop param_grid:  22%|██████████████▉                                                    | 2/9 [00:03<00:14,  2.04s/it]\u001b[A\n",
      "loop param_grid:  33%|██████████████████████▎                                            | 3/9 [00:09<00:23,  3.84s/it]\u001b[A\n",
      "loop param_grid:  44%|█████████████████████████████▊                                     | 4/9 [00:10<00:12,  2.58s/it]\u001b[A\n",
      "loop param_grid:  56%|█████████████████████████████████████▏                             | 5/9 [00:13<00:11,  2.80s/it]\u001b[A\n",
      "loop param_grid:  67%|████████████████████████████████████████████▋                      | 6/9 [00:19<00:11,  3.92s/it]\u001b[A\n",
      "loop param_grid:  78%|████████████████████████████████████████████████████               | 7/9 [00:20<00:05,  2.85s/it]\u001b[A\n",
      "loop param_grid:  89%|███████████████████████████████████████████████████████████▌       | 8/9 [00:23<00:02,  2.91s/it]\u001b[A\n",
      "loop param_grid: 100%|███████████████████████████████████████████████████████████████████| 9/9 [00:29<00:00,  3.90s/it]\u001b[A\n",
      "loop lags_grid:  33%|██████████████████████▋                                             | 1/3 [00:29<00:58, 29.33s/it]\u001b[A\n",
      "loop param_grid:   0%|                                                                           | 0/9 [00:00<?, ?it/s]\u001b[A\n",
      "loop param_grid:  11%|███████▍                                                           | 1/9 [00:00<00:04,  1.62it/s]\u001b[A\n",
      "loop param_grid:  22%|██████████████▉                                                    | 2/9 [00:03<00:14,  2.01s/it]\u001b[A\n",
      "loop param_grid:  33%|██████████████████████▎                                            | 3/9 [00:09<00:22,  3.82s/it]\u001b[A\n",
      "loop param_grid:  44%|█████████████████████████████▊                                     | 4/9 [00:10<00:12,  2.56s/it]\u001b[A\n",
      "loop param_grid:  56%|█████████████████████████████████████▏                             | 5/9 [00:13<00:10,  2.73s/it]\u001b[A\n",
      "loop param_grid:  67%|████████████████████████████████████████████▋                      | 6/9 [00:19<00:11,  3.89s/it]\u001b[A\n",
      "loop param_grid:  78%|████████████████████████████████████████████████████               | 7/9 [00:20<00:05,  2.83s/it]\u001b[A\n",
      "loop param_grid:  89%|███████████████████████████████████████████████████████████▌       | 8/9 [00:23<00:02,  2.89s/it]\u001b[A\n",
      "loop param_grid: 100%|███████████████████████████████████████████████████████████████████| 9/9 [00:29<00:00,  3.95s/it]\u001b[A\n",
      "loop lags_grid:  67%|█████████████████████████████████████████████▎                      | 2/3 [00:58<00:29, 29.32s/it]\u001b[A\n",
      "loop param_grid:   0%|                                                                           | 0/9 [00:00<?, ?it/s]\u001b[A\n",
      "loop param_grid:  11%|███████▍                                                           | 1/9 [00:00<00:04,  1.63it/s]\u001b[A\n",
      "loop param_grid:  22%|██████████████▉                                                    | 2/9 [00:03<00:14,  2.01s/it]\u001b[A\n",
      "loop param_grid:  33%|██████████████████████▎                                            | 3/9 [00:09<00:23,  3.86s/it]\u001b[A\n",
      "loop param_grid:  44%|█████████████████████████████▊                                     | 4/9 [00:10<00:12,  2.58s/it]\u001b[A\n",
      "loop param_grid:  56%|█████████████████████████████████████▏                             | 5/9 [00:13<00:11,  2.77s/it]\u001b[A\n",
      "loop param_grid:  67%|████████████████████████████████████████████▋                      | 6/9 [00:19<00:11,  3.96s/it]\u001b[A\n",
      "loop param_grid:  78%|████████████████████████████████████████████████████               | 7/9 [00:20<00:05,  2.89s/it]\u001b[A\n",
      "loop param_grid:  89%|███████████████████████████████████████████████████████████▌       | 8/9 [00:23<00:02,  2.97s/it]\u001b[A\n",
      "loop param_grid: 100%|███████████████████████████████████████████████████████████████████| 9/9 [00:29<00:00,  4.02s/it]\u001b[A\n",
      "loop lags_grid: 100%|████████████████████████████████████████████████████████████████████| 3/3 [01:28<00:00, 29.49s/it]\u001b[A\n",
      "2021-04-21 15:36:11,265 root       INFO  Refitting `forecaster` using the best found parameters: \n",
      "lags: [1 2 3 4 5] \n",
      "params: {'max_depth': 3, 'n_estimators': 100}\n",
      "\n"
     ]
    }
   ],
   "source": [
    "# Grid search de hiperparámetros\n",
    "# ==============================================================================\n",
    "forecaster_rf = ForecasterAutoreg(\n",
    "                    regressor = RandomForestRegressor(random_state=123),\n",
    "                    lags      = 12 # Este valor será remplazado en el grid search\n",
    "                 )\n",
    "\n",
    "# Hiperparámetros del regresor\n",
    "param_grid = {'n_estimators': [100, 500, 1000],\n",
    "              'max_depth': [3, 5, 10]}\n",
    "\n",
    "# Lags utilizados como predictores\n",
    "lags_grid = [5, 10, 20]\n",
    "\n",
    "resultados_grid = grid_search_forecaster(\n",
    "                        forecaster  = forecaster_rf,\n",
    "                        y           = datos_train,\n",
    "                        param_grid  = param_grid,\n",
    "                        lags_grid   = lags_grid,\n",
    "                        steps       = 10,\n",
    "                        method      = 'cv',\n",
    "                        metric      = 'neg_mean_squared_error',\n",
    "                        initial_train_size    = int(len(datos_train)*0.5),\n",
    "                        allow_incomplete_fold = False,\n",
    "                        return_best = True,\n",
    "                        verbose     = False\n",
    "                   )"
   ]
  },
  {
   "cell_type": "code",
   "execution_count": 79,
   "metadata": {},
   "outputs": [
    {
     "data": {
      "text/html": [
       "<div>\n",
       "<style scoped>\n",
       "    .dataframe tbody tr th:only-of-type {\n",
       "        vertical-align: middle;\n",
       "    }\n",
       "\n",
       "    .dataframe tbody tr th {\n",
       "        vertical-align: top;\n",
       "    }\n",
       "\n",
       "    .dataframe thead th {\n",
       "        text-align: right;\n",
       "    }\n",
       "</style>\n",
       "<table border=\"1\" class=\"dataframe\">\n",
       "  <thead>\n",
       "    <tr style=\"text-align: right;\">\n",
       "      <th></th>\n",
       "      <th>lags</th>\n",
       "      <th>params</th>\n",
       "      <th>metric</th>\n",
       "    </tr>\n",
       "  </thead>\n",
       "  <tbody>\n",
       "    <tr>\n",
       "      <th>0</th>\n",
       "      <td>[1, 2, 3, 4, 5]</td>\n",
       "      <td>{'max_depth': 3, 'n_estimators': 100}</td>\n",
       "      <td>3.455852e+12</td>\n",
       "    </tr>\n",
       "    <tr>\n",
       "      <th>7</th>\n",
       "      <td>[1, 2, 3, 4, 5]</td>\n",
       "      <td>{'max_depth': 10, 'n_estimators': 500}</td>\n",
       "      <td>3.522334e+12</td>\n",
       "    </tr>\n",
       "    <tr>\n",
       "      <th>20</th>\n",
       "      <td>[1, 2, 3, 4, 5, 6, 7, 8, 9, 10, 11, 12, 13, 14...</td>\n",
       "      <td>{'max_depth': 3, 'n_estimators': 1000}</td>\n",
       "      <td>3.577443e+12</td>\n",
       "    </tr>\n",
       "    <tr>\n",
       "      <th>19</th>\n",
       "      <td>[1, 2, 3, 4, 5, 6, 7, 8, 9, 10, 11, 12, 13, 14...</td>\n",
       "      <td>{'max_depth': 3, 'n_estimators': 500}</td>\n",
       "      <td>3.589845e+12</td>\n",
       "    </tr>\n",
       "    <tr>\n",
       "      <th>23</th>\n",
       "      <td>[1, 2, 3, 4, 5, 6, 7, 8, 9, 10, 11, 12, 13, 14...</td>\n",
       "      <td>{'max_depth': 5, 'n_estimators': 1000}</td>\n",
       "      <td>3.604717e+12</td>\n",
       "    </tr>\n",
       "    <tr>\n",
       "      <th>21</th>\n",
       "      <td>[1, 2, 3, 4, 5, 6, 7, 8, 9, 10, 11, 12, 13, 14...</td>\n",
       "      <td>{'max_depth': 5, 'n_estimators': 100}</td>\n",
       "      <td>3.610954e+12</td>\n",
       "    </tr>\n",
       "    <tr>\n",
       "      <th>26</th>\n",
       "      <td>[1, 2, 3, 4, 5, 6, 7, 8, 9, 10, 11, 12, 13, 14...</td>\n",
       "      <td>{'max_depth': 10, 'n_estimators': 1000}</td>\n",
       "      <td>3.613201e+12</td>\n",
       "    </tr>\n",
       "    <tr>\n",
       "      <th>6</th>\n",
       "      <td>[1, 2, 3, 4, 5]</td>\n",
       "      <td>{'max_depth': 10, 'n_estimators': 100}</td>\n",
       "      <td>3.616378e+12</td>\n",
       "    </tr>\n",
       "    <tr>\n",
       "      <th>22</th>\n",
       "      <td>[1, 2, 3, 4, 5, 6, 7, 8, 9, 10, 11, 12, 13, 14...</td>\n",
       "      <td>{'max_depth': 5, 'n_estimators': 500}</td>\n",
       "      <td>3.619199e+12</td>\n",
       "    </tr>\n",
       "    <tr>\n",
       "      <th>18</th>\n",
       "      <td>[1, 2, 3, 4, 5, 6, 7, 8, 9, 10, 11, 12, 13, 14...</td>\n",
       "      <td>{'max_depth': 3, 'n_estimators': 100}</td>\n",
       "      <td>3.619281e+12</td>\n",
       "    </tr>\n",
       "    <tr>\n",
       "      <th>24</th>\n",
       "      <td>[1, 2, 3, 4, 5, 6, 7, 8, 9, 10, 11, 12, 13, 14...</td>\n",
       "      <td>{'max_depth': 10, 'n_estimators': 100}</td>\n",
       "      <td>3.622920e+12</td>\n",
       "    </tr>\n",
       "    <tr>\n",
       "      <th>25</th>\n",
       "      <td>[1, 2, 3, 4, 5, 6, 7, 8, 9, 10, 11, 12, 13, 14...</td>\n",
       "      <td>{'max_depth': 10, 'n_estimators': 500}</td>\n",
       "      <td>3.631424e+12</td>\n",
       "    </tr>\n",
       "    <tr>\n",
       "      <th>2</th>\n",
       "      <td>[1, 2, 3, 4, 5]</td>\n",
       "      <td>{'max_depth': 3, 'n_estimators': 1000}</td>\n",
       "      <td>3.642096e+12</td>\n",
       "    </tr>\n",
       "    <tr>\n",
       "      <th>1</th>\n",
       "      <td>[1, 2, 3, 4, 5]</td>\n",
       "      <td>{'max_depth': 3, 'n_estimators': 500}</td>\n",
       "      <td>3.645151e+12</td>\n",
       "    </tr>\n",
       "    <tr>\n",
       "      <th>3</th>\n",
       "      <td>[1, 2, 3, 4, 5]</td>\n",
       "      <td>{'max_depth': 5, 'n_estimators': 100}</td>\n",
       "      <td>3.655799e+12</td>\n",
       "    </tr>\n",
       "    <tr>\n",
       "      <th>8</th>\n",
       "      <td>[1, 2, 3, 4, 5]</td>\n",
       "      <td>{'max_depth': 10, 'n_estimators': 1000}</td>\n",
       "      <td>3.662003e+12</td>\n",
       "    </tr>\n",
       "    <tr>\n",
       "      <th>4</th>\n",
       "      <td>[1, 2, 3, 4, 5]</td>\n",
       "      <td>{'max_depth': 5, 'n_estimators': 500}</td>\n",
       "      <td>3.668359e+12</td>\n",
       "    </tr>\n",
       "    <tr>\n",
       "      <th>5</th>\n",
       "      <td>[1, 2, 3, 4, 5]</td>\n",
       "      <td>{'max_depth': 5, 'n_estimators': 1000}</td>\n",
       "      <td>3.710590e+12</td>\n",
       "    </tr>\n",
       "    <tr>\n",
       "      <th>12</th>\n",
       "      <td>[1, 2, 3, 4, 5, 6, 7, 8, 9, 10]</td>\n",
       "      <td>{'max_depth': 5, 'n_estimators': 100}</td>\n",
       "      <td>3.756453e+12</td>\n",
       "    </tr>\n",
       "    <tr>\n",
       "      <th>15</th>\n",
       "      <td>[1, 2, 3, 4, 5, 6, 7, 8, 9, 10]</td>\n",
       "      <td>{'max_depth': 10, 'n_estimators': 100}</td>\n",
       "      <td>3.767857e+12</td>\n",
       "    </tr>\n",
       "    <tr>\n",
       "      <th>17</th>\n",
       "      <td>[1, 2, 3, 4, 5, 6, 7, 8, 9, 10]</td>\n",
       "      <td>{'max_depth': 10, 'n_estimators': 1000}</td>\n",
       "      <td>3.780325e+12</td>\n",
       "    </tr>\n",
       "    <tr>\n",
       "      <th>14</th>\n",
       "      <td>[1, 2, 3, 4, 5, 6, 7, 8, 9, 10]</td>\n",
       "      <td>{'max_depth': 5, 'n_estimators': 1000}</td>\n",
       "      <td>3.781764e+12</td>\n",
       "    </tr>\n",
       "    <tr>\n",
       "      <th>16</th>\n",
       "      <td>[1, 2, 3, 4, 5, 6, 7, 8, 9, 10]</td>\n",
       "      <td>{'max_depth': 10, 'n_estimators': 500}</td>\n",
       "      <td>3.790934e+12</td>\n",
       "    </tr>\n",
       "    <tr>\n",
       "      <th>13</th>\n",
       "      <td>[1, 2, 3, 4, 5, 6, 7, 8, 9, 10]</td>\n",
       "      <td>{'max_depth': 5, 'n_estimators': 500}</td>\n",
       "      <td>3.794603e+12</td>\n",
       "    </tr>\n",
       "    <tr>\n",
       "      <th>11</th>\n",
       "      <td>[1, 2, 3, 4, 5, 6, 7, 8, 9, 10]</td>\n",
       "      <td>{'max_depth': 3, 'n_estimators': 1000}</td>\n",
       "      <td>3.798204e+12</td>\n",
       "    </tr>\n",
       "    <tr>\n",
       "      <th>10</th>\n",
       "      <td>[1, 2, 3, 4, 5, 6, 7, 8, 9, 10]</td>\n",
       "      <td>{'max_depth': 3, 'n_estimators': 500}</td>\n",
       "      <td>3.802368e+12</td>\n",
       "    </tr>\n",
       "    <tr>\n",
       "      <th>9</th>\n",
       "      <td>[1, 2, 3, 4, 5, 6, 7, 8, 9, 10]</td>\n",
       "      <td>{'max_depth': 3, 'n_estimators': 100}</td>\n",
       "      <td>3.806413e+12</td>\n",
       "    </tr>\n",
       "  </tbody>\n",
       "</table>\n",
       "</div>"
      ],
      "text/plain": [
       "                                                 lags  \\\n",
       "0                                     [1, 2, 3, 4, 5]   \n",
       "7                                     [1, 2, 3, 4, 5]   \n",
       "20  [1, 2, 3, 4, 5, 6, 7, 8, 9, 10, 11, 12, 13, 14...   \n",
       "19  [1, 2, 3, 4, 5, 6, 7, 8, 9, 10, 11, 12, 13, 14...   \n",
       "23  [1, 2, 3, 4, 5, 6, 7, 8, 9, 10, 11, 12, 13, 14...   \n",
       "21  [1, 2, 3, 4, 5, 6, 7, 8, 9, 10, 11, 12, 13, 14...   \n",
       "26  [1, 2, 3, 4, 5, 6, 7, 8, 9, 10, 11, 12, 13, 14...   \n",
       "6                                     [1, 2, 3, 4, 5]   \n",
       "22  [1, 2, 3, 4, 5, 6, 7, 8, 9, 10, 11, 12, 13, 14...   \n",
       "18  [1, 2, 3, 4, 5, 6, 7, 8, 9, 10, 11, 12, 13, 14...   \n",
       "24  [1, 2, 3, 4, 5, 6, 7, 8, 9, 10, 11, 12, 13, 14...   \n",
       "25  [1, 2, 3, 4, 5, 6, 7, 8, 9, 10, 11, 12, 13, 14...   \n",
       "2                                     [1, 2, 3, 4, 5]   \n",
       "1                                     [1, 2, 3, 4, 5]   \n",
       "3                                     [1, 2, 3, 4, 5]   \n",
       "8                                     [1, 2, 3, 4, 5]   \n",
       "4                                     [1, 2, 3, 4, 5]   \n",
       "5                                     [1, 2, 3, 4, 5]   \n",
       "12                    [1, 2, 3, 4, 5, 6, 7, 8, 9, 10]   \n",
       "15                    [1, 2, 3, 4, 5, 6, 7, 8, 9, 10]   \n",
       "17                    [1, 2, 3, 4, 5, 6, 7, 8, 9, 10]   \n",
       "14                    [1, 2, 3, 4, 5, 6, 7, 8, 9, 10]   \n",
       "16                    [1, 2, 3, 4, 5, 6, 7, 8, 9, 10]   \n",
       "13                    [1, 2, 3, 4, 5, 6, 7, 8, 9, 10]   \n",
       "11                    [1, 2, 3, 4, 5, 6, 7, 8, 9, 10]   \n",
       "10                    [1, 2, 3, 4, 5, 6, 7, 8, 9, 10]   \n",
       "9                     [1, 2, 3, 4, 5, 6, 7, 8, 9, 10]   \n",
       "\n",
       "                                     params        metric  \n",
       "0     {'max_depth': 3, 'n_estimators': 100}  3.455852e+12  \n",
       "7    {'max_depth': 10, 'n_estimators': 500}  3.522334e+12  \n",
       "20   {'max_depth': 3, 'n_estimators': 1000}  3.577443e+12  \n",
       "19    {'max_depth': 3, 'n_estimators': 500}  3.589845e+12  \n",
       "23   {'max_depth': 5, 'n_estimators': 1000}  3.604717e+12  \n",
       "21    {'max_depth': 5, 'n_estimators': 100}  3.610954e+12  \n",
       "26  {'max_depth': 10, 'n_estimators': 1000}  3.613201e+12  \n",
       "6    {'max_depth': 10, 'n_estimators': 100}  3.616378e+12  \n",
       "22    {'max_depth': 5, 'n_estimators': 500}  3.619199e+12  \n",
       "18    {'max_depth': 3, 'n_estimators': 100}  3.619281e+12  \n",
       "24   {'max_depth': 10, 'n_estimators': 100}  3.622920e+12  \n",
       "25   {'max_depth': 10, 'n_estimators': 500}  3.631424e+12  \n",
       "2    {'max_depth': 3, 'n_estimators': 1000}  3.642096e+12  \n",
       "1     {'max_depth': 3, 'n_estimators': 500}  3.645151e+12  \n",
       "3     {'max_depth': 5, 'n_estimators': 100}  3.655799e+12  \n",
       "8   {'max_depth': 10, 'n_estimators': 1000}  3.662003e+12  \n",
       "4     {'max_depth': 5, 'n_estimators': 500}  3.668359e+12  \n",
       "5    {'max_depth': 5, 'n_estimators': 1000}  3.710590e+12  \n",
       "12    {'max_depth': 5, 'n_estimators': 100}  3.756453e+12  \n",
       "15   {'max_depth': 10, 'n_estimators': 100}  3.767857e+12  \n",
       "17  {'max_depth': 10, 'n_estimators': 1000}  3.780325e+12  \n",
       "14   {'max_depth': 5, 'n_estimators': 1000}  3.781764e+12  \n",
       "16   {'max_depth': 10, 'n_estimators': 500}  3.790934e+12  \n",
       "13    {'max_depth': 5, 'n_estimators': 500}  3.794603e+12  \n",
       "11   {'max_depth': 3, 'n_estimators': 1000}  3.798204e+12  \n",
       "10    {'max_depth': 3, 'n_estimators': 500}  3.802368e+12  \n",
       "9     {'max_depth': 3, 'n_estimators': 100}  3.806413e+12  "
      ]
     },
     "execution_count": 79,
     "metadata": {},
     "output_type": "execute_result"
    }
   ],
   "source": [
    "# Resultados Grid Search\n",
    "# ==============================================================================\n",
    "resultados_grid"
   ]
  },
  {
   "cell_type": "code",
   "execution_count": 80,
   "metadata": {},
   "outputs": [],
   "source": [
    "# Crear y entrenar forecaster con mejores hiperparámetros\n",
    "# ==============================================================================\n",
    "regressor = RandomForestRegressor(max_depth=10, n_estimators=500, random_state=123)\n",
    "\n",
    "forecaster_rf = ForecasterAutoreg(\n",
    "                    regressor = regressor,\n",
    "                    lags      = 20\n",
    "                )\n",
    "\n",
    "forecaster_rf.fit(y=datos_train)"
   ]
  },
  {
   "cell_type": "code",
   "execution_count": 81,
   "metadata": {},
   "outputs": [],
   "source": [
    "# Predicciones\n",
    "# ==============================================================================\n",
    "predicciones = forecaster_rf.predict(steps=steps)\n",
    "# Se añade el índice a las predicciones\n",
    "predicciones = pd.Series(data=predicciones, index=datos_test.index)"
   ]
  },
  {
   "cell_type": "code",
   "execution_count": 82,
   "metadata": {},
   "outputs": [
    {
     "data": {
      "image/png": "[encoded data removed]",
      "text/plain": [
       "<Figure size 648x288 with 1 Axes>"
      ]
     },
     "metadata": {
      "needs_background": "light"
     },
     "output_type": "display_data"
    }
   ],
   "source": [
    "# Gráfico\n",
    "# ==============================================================================\n",
    "fig, ax = plt.subplots(figsize=(9, 4))\n",
    "datos_train.plot(ax=ax, label='train')\n",
    "datos_test.plot(ax=ax, label='test')\n",
    "predicciones.plot(ax=ax, label='predicciones')\n",
    "ax.legend();"
   ]
  },
  {
   "cell_type": "code",
   "execution_count": 83,
   "metadata": {},
   "outputs": [
    {
     "name": "stdout",
     "output_type": "stream",
     "text": [
      "Error de test (mse) 8378593700154.524\n"
     ]
    }
   ],
   "source": [
    "# Error\n",
    "# ==============================================================================\n",
    "error_mse = mean_squared_error(\n",
    "                y_true = datos_test,\n",
    "                y_pred = predicciones\n",
    "            )\n",
    "print(f\"Error de test (mse) {error_mse}\")"
   ]
  }
 ],
 "metadata": {
  "kernelspec": {
   "display_name": "Python 3",
   "language": "python",
   "name": "python3"
  },
  "language_info": {
   "codemirror_mode": {
    "name": "ipython",
    "version": 3
   },
   "file_extension": ".py",
   "mimetype": "text/x-python",
   "name": "python",
   "nbconvert_exporter": "python",
   "pygments_lexer": "ipython3",
   "version": "3.8.5"
  }
 },
 "nbformat": 4,
 "nbformat_minor": 4
}
